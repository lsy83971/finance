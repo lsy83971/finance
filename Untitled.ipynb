{
 "cells": [
  {
   "cell_type": "code",
   "execution_count": 2,
   "id": "4bff5f89",
   "metadata": {},
   "outputs": [
    {
     "name": "stdout",
     "output_type": "stream",
     "text": [
      "sz.300085    1\n",
      "dtype: int64\n"
     ]
    }
   ],
   "source": [
    "import sys\n",
    "import os\n",
    "sys.path.append(\"c:/Users/48944/finance/struct\")\n",
    "from price_struct import *\n",
    "\n",
    "\n",
    "stock_files = os.listdir(\"c:/Users/48944/finance/kdata60\")\n",
    "infos = [pd.read_pickle(f\"./kdata60/{i}\") for i in stock_files]\n",
    "close_df = pd.concat([i[\"close\"] for i in infos], axis=1)\n",
    "close_df.columns = [i[: -4] for i in stock_files]\n",
    "\n",
    "amount_df = pd.concat([i[\"amount\"] for i in infos], axis=1)\n",
    "amount_df.columns = [i[: -4] for i in stock_files]\n",
    "\n",
    "# 1. 对比PCA hs300-fit/total-fit 得到主特征的有效性\n",
    "check_price(close_df)\n",
    "\n",
    "sp = price_ts(close_df)\n",
    "amount = amount_ts(amount_df)\n",
    "\n",
    "sp.ts.info.iloc[0]\n",
    "spd = sp.end([\"year\", \"month\", \"day\"])\n",
    "amtd = amount.end([\"year\", \"month\", \"day\"])\n",
    "rtd = spd.ret()\n",
    "\n",
    "\n",
    "hs300 = comp(pd.read_pickle(\"c:/Users/48944/finance/compdata/hs300.pkl\"))\n",
    "sz50 = comp(pd.read_pickle(\"c:/Users/48944/finance/compdata/sz50.pkl\"))\n",
    "zz500 = comp(pd.read_pickle(\"c:/Users/48944/finance/compdata/zz500.pkl\"))"
   ]
  },
  {
   "cell_type": "code",
   "execution_count": 4,
   "id": "c3f526be",
   "metadata": {},
   "outputs": [],
   "source": [
    "from factor.pca_comp import pca_comp"
   ]
  },
  {
   "cell_type": "code",
   "execution_count": 5,
   "id": "cfe938db",
   "metadata": {},
   "outputs": [
    {
     "name": "stdout",
     "output_type": "stream",
     "text": [
      "<class 'price_struct.ret_ts'>\n",
      "<price_struct.comp object at 0x000001FCB7BE5100>\n",
      "<price_struct.comp object at 0x000001FCB7BE5100>\n",
      "<price_struct.comp object at 0x000001FCB7BE5100>\n",
      "<price_struct.comp object at 0x000001FCB7BE5100>\n",
      "<price_struct.comp object at 0x000001FCB7BE5100>\n",
      "<price_struct.comp object at 0x000001FCB7BE5100>\n",
      "<price_struct.comp object at 0x000001FCB7BE5100>\n",
      "<class 'price_struct.ret_ts'>\n",
      "<price_struct.comp object at 0x000001FCCD6EFA90>\n",
      "<price_struct.comp object at 0x000001FCCD6EFA90>\n",
      "<price_struct.comp object at 0x000001FCCD6EFA90>\n",
      "<price_struct.comp object at 0x000001FCCD6EFA90>\n",
      "<price_struct.comp object at 0x000001FCCD6EFA90>\n",
      "<price_struct.comp object at 0x000001FCCD6EFA90>\n",
      "<price_struct.comp object at 0x000001FCCD6EFA90>\n",
      "<class 'price_struct.ret_ts'>\n",
      "<price_struct.comp object at 0x000001FCCD6EF850>\n",
      "<price_struct.comp object at 0x000001FCCD6EF850>\n",
      "<price_struct.comp object at 0x000001FCCD6EF850>\n",
      "<price_struct.comp object at 0x000001FCCD6EF850>\n",
      "<price_struct.comp object at 0x000001FCCD6EF850>\n",
      "<price_struct.comp object at 0x000001FCCD6EF850>\n",
      "<price_struct.comp object at 0x000001FCCD6EF850>\n",
      "<class 'price_struct.ret_ts'>\n"
     ]
    }
   ],
   "source": [
    "i1 = 3\n",
    "i2 = 1\n",
    "pf300 = pca_comp(rtd, hs300)\n",
    "pf500 = pca_comp(rtd, zz500)\n",
    "pf50 = pca_comp(rtd, sz50)\n",
    "pf_total = pca_comp(rtd)\n",
    "pf300.yearly(i1, i2)\n",
    "pf500.yearly(i1, i2)\n",
    "pf50.yearly(i1, i2)\n",
    "pf_total.yearly(i1, i2)"
   ]
  },
  {
   "cell_type": "code",
   "execution_count": null,
   "id": "1bfbd32b",
   "metadata": {},
   "outputs": [],
   "source": [
    "pf_total"
   ]
  },
  {
   "cell_type": "code",
   "execution_count": null,
   "id": "d648e9b9",
   "metadata": {},
   "outputs": [],
   "source": []
  },
  {
   "cell_type": "code",
   "execution_count": null,
   "id": "6fbe9279",
   "metadata": {},
   "outputs": [],
   "source": []
  },
  {
   "cell_type": "code",
   "execution_count": null,
   "id": "f1b0a6bc",
   "metadata": {},
   "outputs": [],
   "source": []
  }
 ],
 "metadata": {
  "kernelspec": {
   "display_name": "Python 3 (ipykernel)",
   "language": "python",
   "name": "python3"
  },
  "language_info": {
   "codemirror_mode": {
    "name": "ipython",
    "version": 3
   },
   "file_extension": ".py",
   "mimetype": "text/x-python",
   "name": "python",
   "nbconvert_exporter": "python",
   "pygments_lexer": "ipython3",
   "version": "3.9.7"
  }
 },
 "nbformat": 4,
 "nbformat_minor": 5
}
