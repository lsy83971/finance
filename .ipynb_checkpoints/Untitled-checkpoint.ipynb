{
 "cells": [
  {
   "cell_type": "code",
   "execution_count": 2,
   "id": "6f066203",
   "metadata": {},
   "outputs": [
    {
     "name": "stdout",
     "output_type": "stream",
     "text": [
      "sz.300085    1\n",
      "dtype: int64\n"
     ]
    }
   ],
   "source": [
    "import sys\n",
    "import os\n",
    "sys.path.append(\"c:/Users/48944/finance/struct\")\n",
    "from price_struct import *\n",
    "\n",
    "\n",
    "stock_files = os.listdir(\"c:/Users/48944/finance/kdata60\")\n",
    "infos = [pd.read_pickle(f\"./kdata60/{i}\") for i in stock_files]\n",
    "close_df = pd.concat([i[\"close\"] for i in infos], axis=1)\n",
    "close_df.columns = [i[: -4] for i in stock_files]\n",
    "\n",
    "amount_df = pd.concat([i[\"amount\"] for i in infos], axis=1)\n",
    "amount_df.columns = [i[: -4] for i in stock_files]\n",
    "\n",
    "# 1. 对比PCA hs300-fit/total-fit 得到主特征的有效性\n",
    "check_price(close_df)\n",
    "\n",
    "sp = price_ts(close_df)\n",
    "amount = amount_ts(amount_df)\n",
    "\n",
    "sp.ts.info.iloc[0]\n",
    "spd = sp.end([\"year\", \"month\", \"day\"])\n",
    "amtd = amount.end([\"year\", \"month\", \"day\"])\n",
    "rtd = spd.ret()\n",
    "\n",
    "\n",
    "hs300 = comp(pd.read_pickle(\"c:/Users/48944/finance/compdata/hs300.pkl\"))\n",
    "sz50 = comp(pd.read_pickle(\"c:/Users/48944/finance/compdata/sz50.pkl\"))\n",
    "zz500 = comp(pd.read_pickle(\"c:/Users/48944/finance/compdata/zz500.pkl\"))"
   ]
  },
  {
   "cell_type": "code",
   "execution_count": 4,
   "id": "5cb32af2",
   "metadata": {},
   "outputs": [],
   "source": [
    "from factor.pca_comp import pca_comp"
   ]
  },
  {
   "cell_type": "code",
   "execution_count": 5,
   "id": "d18b746a",
   "metadata": {},
   "outputs": [
    {
     "name": "stdout",
     "output_type": "stream",
     "text": [
      "<class 'price_struct.ret_ts'>\n",
      "<price_struct.comp object at 0x000001FCB7BE5100>\n",
      "<price_struct.comp object at 0x000001FCB7BE5100>\n",
      "<price_struct.comp object at 0x000001FCB7BE5100>\n",
      "<price_struct.comp object at 0x000001FCB7BE5100>\n",
      "<price_struct.comp object at 0x000001FCB7BE5100>\n",
      "<price_struct.comp object at 0x000001FCB7BE5100>\n",
      "<price_struct.comp object at 0x000001FCB7BE5100>\n",
      "<class 'price_struct.ret_ts'>\n",
      "<price_struct.comp object at 0x000001FCCD6EFA90>\n",
      "<price_struct.comp object at 0x000001FCCD6EFA90>\n",
      "<price_struct.comp object at 0x000001FCCD6EFA90>\n",
      "<price_struct.comp object at 0x000001FCCD6EFA90>\n",
      "<price_struct.comp object at 0x000001FCCD6EFA90>\n",
      "<price_struct.comp object at 0x000001FCCD6EFA90>\n",
      "<price_struct.comp object at 0x000001FCCD6EFA90>\n",
      "<class 'price_struct.ret_ts'>\n",
      "<price_struct.comp object at 0x000001FCCD6EF850>\n",
      "<price_struct.comp object at 0x000001FCCD6EF850>\n",
      "<price_struct.comp object at 0x000001FCCD6EF850>\n",
      "<price_struct.comp object at 0x000001FCCD6EF850>\n",
      "<price_struct.comp object at 0x000001FCCD6EF850>\n",
      "<price_struct.comp object at 0x000001FCCD6EF850>\n",
      "<price_struct.comp object at 0x000001FCCD6EF850>\n",
      "<class 'price_struct.ret_ts'>\n"
     ]
    }
   ],
   "source": [
    "i1 = 3\n",
    "i2 = 1\n",
    "pf300 = pca_comp(rtd, hs300)\n",
    "pf500 = pca_comp(rtd, zz500)\n",
    "pf50 = pca_comp(rtd, sz50)\n",
    "pf_total = pca_comp(rtd)\n",
    "pf300.yearly(i1, i2)\n",
    "pf500.yearly(i1, i2)\n",
    "pf50.yearly(i1, i2)\n",
    "pf_total.yearly(i1, i2)"
   ]
  },
  {
   "cell_type": "code",
   "execution_count": 11,
   "id": "5fcd1122",
   "metadata": {},
   "outputs": [
    {
     "data": {
      "text/plain": [
       "<price_struct.ret_ts at 0x1fccd6ef550>"
      ]
     },
     "execution_count": 11,
     "metadata": {},
     "output_type": "execute_result"
    }
   ],
   "source": [
    "rtd"
   ]
  },
  {
   "cell_type": "code",
   "execution_count": 14,
   "id": "f2ccf460",
   "metadata": {},
   "outputs": [
    {
     "data": {
      "text/html": [
       "<div>\n",
       "<style scoped>\n",
       "    .dataframe tbody tr th:only-of-type {\n",
       "        vertical-align: middle;\n",
       "    }\n",
       "\n",
       "    .dataframe tbody tr th {\n",
       "        vertical-align: top;\n",
       "    }\n",
       "\n",
       "    .dataframe thead th {\n",
       "        text-align: right;\n",
       "    }\n",
       "</style>\n",
       "<table border=\"1\" class=\"dataframe\">\n",
       "  <thead>\n",
       "    <tr style=\"text-align: right;\">\n",
       "      <th></th>\n",
       "      <th>0</th>\n",
       "      <th>1</th>\n",
       "      <th>2</th>\n",
       "    </tr>\n",
       "  </thead>\n",
       "  <tbody>\n",
       "    <tr>\n",
       "      <th>201701033</th>\n",
       "      <td>-4.682780</td>\n",
       "      <td>0.818453</td>\n",
       "      <td>0.322663</td>\n",
       "    </tr>\n",
       "    <tr>\n",
       "      <th>201701043</th>\n",
       "      <td>-5.788933</td>\n",
       "      <td>-0.243922</td>\n",
       "      <td>0.112319</td>\n",
       "    </tr>\n",
       "    <tr>\n",
       "      <th>201701053</th>\n",
       "      <td>-0.677609</td>\n",
       "      <td>0.010865</td>\n",
       "      <td>-0.384693</td>\n",
       "    </tr>\n",
       "    <tr>\n",
       "      <th>201701063</th>\n",
       "      <td>1.708929</td>\n",
       "      <td>2.302096</td>\n",
       "      <td>-0.365744</td>\n",
       "    </tr>\n",
       "    <tr>\n",
       "      <th>201701093</th>\n",
       "      <td>-3.927778</td>\n",
       "      <td>0.489184</td>\n",
       "      <td>-0.083030</td>\n",
       "    </tr>\n",
       "    <tr>\n",
       "      <th>...</th>\n",
       "      <td>...</td>\n",
       "      <td>...</td>\n",
       "      <td>...</td>\n",
       "    </tr>\n",
       "    <tr>\n",
       "      <th>201712253</th>\n",
       "      <td>7.281607</td>\n",
       "      <td>1.171005</td>\n",
       "      <td>0.955817</td>\n",
       "    </tr>\n",
       "    <tr>\n",
       "      <th>201712263</th>\n",
       "      <td>-3.467252</td>\n",
       "      <td>0.547778</td>\n",
       "      <td>-0.422274</td>\n",
       "    </tr>\n",
       "    <tr>\n",
       "      <th>201712273</th>\n",
       "      <td>3.665660</td>\n",
       "      <td>0.862505</td>\n",
       "      <td>0.207602</td>\n",
       "    </tr>\n",
       "    <tr>\n",
       "      <th>201712283</th>\n",
       "      <td>-1.399353</td>\n",
       "      <td>1.434720</td>\n",
       "      <td>0.969216</td>\n",
       "    </tr>\n",
       "    <tr>\n",
       "      <th>201712293</th>\n",
       "      <td>-3.560451</td>\n",
       "      <td>-0.630824</td>\n",
       "      <td>0.207094</td>\n",
       "    </tr>\n",
       "  </tbody>\n",
       "</table>\n",
       "<p>244 rows × 3 columns</p>\n",
       "</div>"
      ],
      "text/plain": [
       "                  0         1         2\n",
       "201701033 -4.682780  0.818453  0.322663\n",
       "201701043 -5.788933 -0.243922  0.112319\n",
       "201701053 -0.677609  0.010865 -0.384693\n",
       "201701063  1.708929  2.302096 -0.365744\n",
       "201701093 -3.927778  0.489184 -0.083030\n",
       "...             ...       ...       ...\n",
       "201712253  7.281607  1.171005  0.955817\n",
       "201712263 -3.467252  0.547778 -0.422274\n",
       "201712273  3.665660  0.862505  0.207602\n",
       "201712283 -1.399353  1.434720  0.969216\n",
       "201712293 -3.560451 -0.630824  0.207094\n",
       "\n",
       "[244 rows x 3 columns]"
      ]
     },
     "execution_count": 14,
     "metadata": {},
     "output_type": "execute_result"
    }
   ],
   "source": [
    "pf500.idx1_record[2014]"
   ]
  }
 ],
 "metadata": {
  "kernelspec": {
   "display_name": "Python 3 (ipykernel)",
   "language": "python",
   "name": "python3"
  },
  "language_info": {
   "codemirror_mode": {
    "name": "ipython",
    "version": 3
   },
   "file_extension": ".py",
   "mimetype": "text/x-python",
   "name": "python",
   "nbconvert_exporter": "python",
   "pygments_lexer": "ipython3",
   "version": "3.9.7"
  }
 },
 "nbformat": 4,
 "nbformat_minor": 5
}
